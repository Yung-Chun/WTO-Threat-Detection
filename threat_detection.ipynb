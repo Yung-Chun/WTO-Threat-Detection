{
 "cells": [
  {
   "cell_type": "code",
   "execution_count": 1,
   "metadata": {},
   "outputs": [
    {
     "name": "stdout",
     "output_type": "stream",
     "text": [
      "Intel MKL WARNING: Support of Intel(R) Streaming SIMD Extensions 4.2 (Intel(R) SSE4.2) enabled only processors has been deprecated. Intel oneAPI Math Kernel Library 2025.0 will require Intel(R) Advanced Vector Extensions (Intel(R) AVX) instructions.\n",
      "Intel MKL WARNING: Support of Intel(R) Streaming SIMD Extensions 4.2 (Intel(R) SSE4.2) enabled only processors has been deprecated. Intel oneAPI Math Kernel Library 2025.0 will require Intel(R) Advanced Vector Extensions (Intel(R) AVX) instructions.\n"
     ]
    }
   ],
   "source": [
    "import pandas as pd\n",
    "from tqdm import tqdm\n",
    "import json\n",
    "from datetime import datetime\n",
    "import time\n",
    "import matplotlib.pyplot as plt\n",
    "import random\n",
    "import tiktoken\n",
    "import requests\n",
    "import ast\n",
    "import logging\n",
    "from dotenv import load_dotenv\n",
    "\n",
    "from langchain.llms import OpenAI\n",
    "from langchain_openai import ChatOpenAI\n",
    "from langchain.callbacks import get_openai_callback\n",
    "from langchain.schema import HumanMessage, AIMessage, SystemMessage, ChatMessage\n",
    "from langchain.prompts import MessagesPlaceholder, PromptTemplate, ChatPromptTemplate, HumanMessagePromptTemplate, AIMessagePromptTemplate, SystemMessagePromptTemplate\n",
    "from langchain.output_parsers import StructuredOutputParser, ResponseSchema, CommaSeparatedListOutputParser\n",
    "from langchain_core.output_parsers import JsonOutputParser\n",
    "from langchain.chains import ConversationChain\n",
    "from langchain.memory import ConversationBufferMemory\n",
    "from openai import RateLimitError, APIError, APIConnectionError, APITimeoutError, InternalServerError\n",
    "\n",
    "import os\n",
    "load_dotenv(dotenv_path='../../../../.env')\n",
    "api_key = os.getenv('OPENAI_API_KEY')\n",
    "os.environ['OPENAI_API_KEY'] = api_key"
   ]
  },
  {
   "cell_type": "markdown",
   "metadata": {},
   "source": [
    "# Load Data"
   ]
  },
  {
   "cell_type": "code",
   "execution_count": 3,
   "metadata": {},
   "outputs": [],
   "source": [
    "# # URL of the JSON file\n",
    "# url = 'https://raw.githubusercontent.com/Yung-Chun/WTO-Event-Extraction/main/training_data/wto_eng_docs.json'\n",
    "\n",
    "# try:\n",
    "#     # Fetch the data from the URL\n",
    "#     response = requests.get(url)\n",
    "    \n",
    "#     # Check if the request was successful (status code 200)\n",
    "#     if response.status_code == 200:\n",
    "        \n",
    "#         # Parse JSON data\n",
    "#         wto_eng_doc = response.json()\n",
    "#         print(\"Seccessfully fetched data. Status code:\", response.status_code)\n",
    "        \n",
    "#     else:\n",
    "#         print(\"Failed to fetch data. Status code:\", response.status_code)\n",
    "\n",
    "# except requests.exceptions.RequestException as e:\n",
    "#     print(\"Error fetching data:\", e)"
   ]
  },
  {
   "cell_type": "code",
   "execution_count": 2,
   "metadata": {},
   "outputs": [],
   "source": [
    "# read from local file\n",
    "with open('../WTO-Event-Extraction/training_data/wto_eng_docs.json') as f:\n",
    "    wto_eng_doc = json.load(f)"
   ]
  },
  {
   "cell_type": "code",
   "execution_count": 3,
   "metadata": {},
   "outputs": [
    {
     "data": {
      "text/plain": [
       "8296"
      ]
     },
     "execution_count": 3,
     "metadata": {},
     "output_type": "execute_result"
    }
   ],
   "source": [
    "len(wto_eng_doc)"
   ]
  },
  {
   "cell_type": "code",
   "execution_count": 4,
   "metadata": {},
   "outputs": [],
   "source": [
    "urls = list(wto_eng_doc.keys())"
   ]
  },
  {
   "cell_type": "code",
   "execution_count": 5,
   "metadata": {},
   "outputs": [
    {
     "data": {
      "text/plain": [
       "{'date': '29 NOVEMBER 2021',\n",
       " 'doc': \"WTO Director-General Ngozi Okonjo Iweala and International Finance Corporation (IFC) Managing Director Makhtar Diop agreed on 29 November to enhance cooperation between the two organizations in order to explore ways to improve the availability of trade financing for regions in need. In a joint statement, the two pledged to enhance existing cooperation to improve the analytics, identification and detection of trade finance gaps in order to better direct capacity building and other resources where unmet demand is greatest, particularly in Africa.\\n“Our developing country members regularly identify a lack of trade finance as a major obstacle to participating in global trade — all the more so for micro, small and medium-sized enterprises, and businesses led by women,” DG Okonjo-Iweala said. “Working together, experts from our two organizations will be able to better analyse, detect and explain trade finance gaps, with a view to directing finite resources where they are needed the most. I believe that a significant share of trade finance gaps results from knowledge gaps.”\\n“Trade is the lifeblood of the global economy but without trade finance, there can be no effective trade,” said the IFC's Managing Director, Makhtar Diop. “By expanding our knowledge of trade finance gaps and bolstering traders’ capacity, IFC and the WTO can help small enterprises in developing countries integrate into the global economy.”\\nMost trade is not paid cash-in-advance. The short-term payment risk involved in international trade is mitigated by a credit, guarantee or credit insurance, present in up to 80% of global trade transactions. The sum of these facilities provided by financial and other institutions is known as trade finance.\\nIn their joint statement, the WTO and the IFC heads agreed to work with small traders and financial institutions at the local level to better understand the ecosystem of trade finance. They also pledged to improve access to trade finance training programmes in emerging markets, mainly in Africa.\\nThey agreed to strengthen the ability of local financial institutions to meet compliance challenges and to facilitate knowledge and awareness for exporters and importers of trade finance support available from development financial institutions. In addition to the IFC, examples of such institutions include the Asian Development Bank, the African Development Bank, the Inter-American Development Bank and the European Bank for Reconstruction and Development.\\nThe IFC — a member of the World Bank Group — is the largest global development institution focused on the private sector in emerging markets.\\nThe full text of the joint statement is below.\\nJoint IFC-WTO Statement on Enhanced Cooperation to Strengthen Access to Trade Finance\\nTrade would not happen without trade finance. Yet, in many developing countries, increased trade finance costs during the pandemic are adding to the already high cost of physically moving critical goods and commodities across borders. Trade costs in Africa, for example, can be as high as 300 percent of the value of the merchandise being traded. Meanwhile, the cost of trade finance, for example confirmed letters of credit, has increased during the pandemic and is six to seven times more expensive in Africa than in OECD countries.\\nBasic trade finance lines are not even available locally in emerging markets, particularly for SMEs. Surveys indicate that over 40 percent of SMEs’ trade finance requests are rejected. This number goes up to 70 percent when the requests emanate from women-owned SMEs. And when trade finance requests are accepted, often the most expensive form of trade finance is proposed — collateralized working capital financing at very high rates. In this context, it is no surprise that global trade finance gaps, mainly in developing countries, have increased during the pandemic, reaching $1.7 trillion.\\nIFC and the WTO will enhance their cooperation, in order to improve the analytics and understanding of trade finance gaps (better survey, identify, and detect gaps), so as better direct limited resources while strengthening the capacity of local exporters and importers and financial institutions where unmet demand is acute:\\nTrade Finance Gap Study\\nThe WTO and IFC will work together to improve the identification of trade finance gaps, notably in Africa, where the gaps are considerably high. Improved country-focused surveys will help target priority markets in which the mismatch between supply and demand is particularly high and will help IFC implement the $1 billion Africa Trade Recovery Initiative launched in May 2021.     \\nImproving the Diagnostic of Local Trade Finance Impediments\\nIFC and the WTO will work with small traders and financial institutions at the local level to better understand the ecosystem of trade finance. With this data, we will be able to maximize the impact of our partnership to address these challenges. Small traders and financial institutions will be surveyed in the context of existing mechanisms, such as the WTO’s Enhanced Integrated Framework and IFC's annual client survey.\\nStrengthening Trade Finance Training Programs for SME Exporters and Importers\\nTrade finance training programs for SMEs have seen considerable interest in low-income, fragile, and vulnerable economies where companies are subject to the highest rejection rates. To further support SME exporters and importers that are suffering from disrupted supply chains caused by the pandemic, IFC has launched pilot trade finance training programs for SMEs. Building on programs already underway, IFC and the WTO will work mainly in Africa to improve access to trade finance training programs in emerging markets.\\nStrengthening Local Financial Institutions’ Capacity to Meet Compliance Challenges\\nMeeting transparency standards, such as being able to detect Trade Based Money Laundering (TBML), is key to maintaining trade and financial relations in global markets, notably through Correspondent Banking Relationships (CBRs). IFC and the WTO will expand training and capacity-building programs, mainly targeting Africa, to help emerging market financial institutions meet compliance challenges.  \\nSharing Knowledge and Raising Awareness of Trade Finance Support Programs\\nThe global pandemic has had a disproportionate impact in emerging markets, limiting access to trade finance. While the demand for trade finance support from Development Financial Institutions (DFIs) is high, these programs are not always well known by the trading community. IFC and the WTO will launch a joint research initiative by facilitating workshops for exporters and importers to identify the level of awareness of DFIs’ trade finance support programs. This will help develop solutions to address the trade finance “information gap.”\\nShare\"}"
      ]
     },
     "execution_count": 5,
     "metadata": {},
     "output_type": "execute_result"
    }
   ],
   "source": [
    "test_url = urls[0]\n",
    "test_doc = wto_eng_doc[test_url]\n",
    "test_doc"
   ]
  },
  {
   "cell_type": "markdown",
   "metadata": {},
   "source": [
    "# Count Tokens"
   ]
  },
  {
   "cell_type": "code",
   "execution_count": 6,
   "metadata": {},
   "outputs": [],
   "source": [
    "model_name='gpt-4-0125-preview'\n",
    "# model_name='gpt-3.5-turbo-0125' # for testing"
   ]
  },
  {
   "cell_type": "code",
   "execution_count": 7,
   "metadata": {},
   "outputs": [],
   "source": [
    "def calculate_tokens(string: str, model_name: str) -> int:\n",
    "    encoding = tiktoken.get_encoding(\"cl100k_base\")\n",
    "    encoding = tiktoken.encoding_for_model(model_name)\n",
    "    num_tokens = len(encoding.encode(string))\n",
    "    return num_tokens"
   ]
  },
  {
   "cell_type": "code",
   "execution_count": 91,
   "metadata": {},
   "outputs": [
    {
     "name": "stdout",
     "output_type": "stream",
     "text": [
      "https://www.wto.org/english/news_e/pres95_e/ov11.htm\n",
      "22206\n"
     ]
    }
   ],
   "source": [
    "max_url = ''\n",
    "max_token_cnt = 0\n",
    "\n",
    "for url in wto_eng_doc.keys():\n",
    "    content = wto_eng_doc[url]['doc']\n",
    "    num_tokens = calculate_tokens(content, model_name)\n",
    "\n",
    "    if num_tokens > max_token_cnt:\n",
    "        max_url = url\n",
    "        max_token_cnt =num_tokens\n",
    "\n",
    "print(max_url)\n",
    "print(max_token_cnt)"
   ]
  },
  {
   "cell_type": "code",
   "execution_count": null,
   "metadata": {},
   "outputs": [
    {
     "name": "stdout",
     "output_type": "stream",
     "text": [
      "148\n"
     ]
    }
   ],
   "source": [
    "min_token_cnt = max_token_cnt\n",
    "for url in wto_eng_doc.keys():\n",
    "    content = wto_eng_doc[url]['doc']\n",
    "    num_tokens = calculate_tokens(content, model_name)\n",
    "    min_token_cnt = min(num_tokens, max_token_cnt)\n",
    "\n",
    "print(min_token_cnt)"
   ]
  },
  {
   "cell_type": "markdown",
   "metadata": {},
   "source": [
    "# Prompt Format"
   ]
  },
  {
   "cell_type": "code",
   "execution_count": 7,
   "metadata": {},
   "outputs": [],
   "source": [
    "template_string = \"\"\"\n",
    "This is the article: ```{article}```\n",
    "\n",
    "If the article shows the United States' disappointments, please type \"yes\", else type \"no\" for the key isDisappointment.\n",
    "If the article contains complaints about the United States from other countries, please type \"yes\", else type \"no\" for the key isComplain.\n",
    "If the article contains criticism of the United States from the WTO, please type \"yes\", else type \"no\" for the key isCritic.\n",
    "If the article implies that there is a need for a policy change within the United States, please type \"yes\", else type \"no\" for the key isAffect.\n",
    "\n",
    "And then give a reason in one sentence to all keys. \n",
    "\n",
    "{format_instructions}\n",
    "\"\"\""
   ]
  },
  {
   "cell_type": "code",
   "execution_count": 8,
   "metadata": {},
   "outputs": [],
   "source": [
    "response_schemas = [\n",
    "    ResponseSchema(name=\"isDisappointment\", description=\"response with only yes or no\"),\n",
    "    ResponseSchema(name=\"isDisappointment_reason\", description=\"One-sentence reason for the response\"),\n",
    "    ResponseSchema(name=\"isComplain\", description=\"response with only yes or no\"),\n",
    "    ResponseSchema(name=\"isComplain_reason\", description=\"One-sentence reason for the response\"),\n",
    "    ResponseSchema(name=\"isCritic\", description=\"response with only yes or no\"),\n",
    "    ResponseSchema(name=\"isCritic_reason\", description=\"One-sentence reason for the response\"),\n",
    "    ResponseSchema(name=\"isAffect\", description=\"response with only yes or no\"),\n",
    "    ResponseSchema(name=\"isAffect_reason\", description=\"One-sentence reason for the response\")\n",
    "]\n",
    "\n",
    "output_parser = StructuredOutputParser.from_response_schemas(response_schemas)\n",
    "format_instructions = output_parser.get_format_instructions()    \n",
    "\n",
    "prompt_template = ChatPromptTemplate.from_template(template_string)\n",
    "\n",
    "chat_model = ChatOpenAI(temperature=0, model_name=model_name)"
   ]
  },
  {
   "cell_type": "code",
   "execution_count": 9,
   "metadata": {},
   "outputs": [
    {
     "name": "stdout",
     "output_type": "stream",
     "text": [
      "input_variables=['article', 'format_instructions'] messages=[HumanMessagePromptTemplate(prompt=PromptTemplate(input_variables=['article', 'format_instructions'], template='\\nThis is the article: ```{article}```\\n\\nIf the article shows the United States\\' disappointments, please type \"yes\", else type \"no\" for the key isDisappointment.\\nIf the article contains complaints about the United States from other countries, please type \"yes\", else type \"no\" for the key isComplain.\\nIf the article contains criticism of the United States from the WTO, please type \"yes\", else type \"no\" for the key isCritic.\\nIf the article implies that there is a need for a policy change within the United States, please type \"yes\", else type \"no\" for the key isAffect.\\n\\nAnd then give a reason in one sentence to all keys. \\n\\n{format_instructions}\\n'))]\n"
     ]
    }
   ],
   "source": [
    "print(prompt_template)"
   ]
  },
  {
   "cell_type": "markdown",
   "metadata": {},
   "source": [
    "# Get Results"
   ]
  },
  {
   "cell_type": "code",
   "execution_count": 10,
   "metadata": {},
   "outputs": [],
   "source": [
    "def save_output(structured_output_dict):\n",
    "    with open(f'threat_detection_output.json', 'w') as f:\n",
    "        json.dump(structured_output_dict, f)"
   ]
  },
  {
   "cell_type": "code",
   "execution_count": 11,
   "metadata": {},
   "outputs": [],
   "source": [
    "#  RateLimitError, APIError, APIConnectionError, APITimeoutError, InternalServerError\n",
    "def my_chat(url):\n",
    "    try:\n",
    "        input_content = wto_eng_doc[url]['doc']\n",
    "        input_messages = prompt_template.format_messages(article = input_content, format_instructions=format_instructions)\n",
    "\n",
    "        response = chat_model.invoke([\n",
    "            SystemMessage(content='You are a political economics researcher, focusing on international relations.'),\n",
    "            input_messages[0],\n",
    "        ],\n",
    "        max_tokens=150\n",
    "        )\n",
    "\n",
    "        structured_output = output_parser.parse(response.content)\n",
    "        return structured_output\n",
    "\n",
    "    except Exception as e:\n",
    "        current_time = datetime.now().strftime('%Y-%m-%d %H:%M:%S')\n",
    "\n",
    "        log_message_dict = {\n",
    "            'Input': url,\n",
    "            'Time': current_time,\n",
    "            'Error': type(e).__name__,\n",
    "            'Message': str(e)\n",
    "        }\n",
    "\n",
    "        log_message = str(log_message_dict)\n",
    "        logging.error(log_message)\n",
    "        return None"
   ]
  },
  {
   "cell_type": "code",
   "execution_count": 12,
   "metadata": {},
   "outputs": [],
   "source": [
    "# create looging file\n",
    "logging.basicConfig(level=logging.ERROR, filename='gpt_errors.log', filemode='a', format='%(message)s')"
   ]
  },
  {
   "cell_type": "code",
   "execution_count": 13,
   "metadata": {},
   "outputs": [
    {
     "name": "stdout",
     "output_type": "stream",
     "text": [
      "Number of failed cases: 493\n"
     ]
    }
   ],
   "source": [
    "# Open the log file and read its contents\n",
    "error_url = set()\n",
    "\n",
    "with open('gpt_errors.log', 'r') as file:\n",
    "    for line in file:\n",
    "        dict_obj = ast.literal_eval(line.strip())\n",
    "        error_url.add(dict_obj['Input'])\n",
    "\n",
    "print(f'Number of failed cases: {len(error_url)}')"
   ]
  },
  {
   "cell_type": "code",
   "execution_count": 14,
   "metadata": {},
   "outputs": [
    {
     "name": "stdout",
     "output_type": "stream",
     "text": [
      "Loaded 5126 records\n"
     ]
    },
    {
     "name": "stderr",
     "output_type": "stream",
     "text": [
      "Now Processing: 100%|██████████| 8296/8296 [7:26:54<00:00,  3.23s/it]  "
     ]
    },
    {
     "name": "stdout",
     "output_type": "stream",
     "text": [
      "used Tokens Used: 4544861\n",
      "\tPrompt Tokens: 4188536\n",
      "\tCompletion Tokens: 356325\n",
      "Successful Requests: 2677\n",
      "Total Cost (USD): $0.0 tokens and took 7:26:54.970857 to process 8296 articles\n"
     ]
    },
    {
     "name": "stderr",
     "output_type": "stream",
     "text": [
      "\n"
     ]
    }
   ],
   "source": [
    "idx = 0\n",
    "start_time = datetime.now()\n",
    "\n",
    "file_name = 'threat_detection_output.json'\n",
    "if not os.path.exists(file_name):\n",
    "    with open(file_name, 'w') as f:\n",
    "        json.dump({}, f)\n",
    "else:\n",
    "    with open(file_name) as f:\n",
    "        structured_output_dict = json.load(f)\n",
    "        print(f'Loaded {len(structured_output_dict)} records')\n",
    "\n",
    "with get_openai_callback() as cb:\n",
    "    \n",
    "    for url in tqdm(urls, desc='Now Processing'):\n",
    "        if url not in structured_output_dict.keys() and url not in error_url:\n",
    "            \n",
    "            structured_output = my_chat(url)\n",
    "            if structured_output is not None:\n",
    "                structured_output_dict.update({url:structured_output})\n",
    "                idx += 1\n",
    "\n",
    "            if idx % 10 == 0:\n",
    "                save_output(structured_output_dict)\n",
    "        \n",
    "            time.sleep(random.randint(1, 5))\n",
    "\n",
    "save_output(structured_output_dict)\n",
    "\n",
    "end_time = datetime.now()\n",
    "print(f'used {cb} tokens and took {end_time - start_time} to process {len(urls)} articles')"
   ]
  },
  {
   "cell_type": "code",
   "execution_count": 31,
   "metadata": {},
   "outputs": [],
   "source": []
  },
  {
   "cell_type": "code",
   "execution_count": 17,
   "metadata": {},
   "outputs": [
    {
     "data": {
      "text/plain": [
       "5126"
      ]
     },
     "execution_count": 17,
     "metadata": {},
     "output_type": "execute_result"
    }
   ],
   "source": [
    "save_output(structured_output_dict)\n",
    "len(structured_output_dict)"
   ]
  },
  {
   "cell_type": "code",
   "execution_count": 15,
   "metadata": {},
   "outputs": [
    {
     "name": "stdout",
     "output_type": "stream",
     "text": [
      "{'isDisappointment': 'no', 'isDisappointment_reason': \"The article does not explicitly express the United States' disappointment regarding the WTO's decisions.\", 'isComplain': 'yes', 'isComplain_reason': 'The United States requested consultations with India regarding additional duties, indicating a complaint.', 'isCritic': 'no', 'isCritic_reason': 'The article does not contain any direct criticism of the United States from the WTO.', 'isAffect': 'no', 'isAffect_reason': \"The article does not imply a need for policy change within the United States; it focuses on India's import duties.\"}\n"
     ]
    }
   ],
   "source": [
    "print(my_chat('https://www.wto.org/english/tratop_e/dispu_e/cases_e/ds360_e.htm'))"
   ]
  },
  {
   "cell_type": "code",
   "execution_count": null,
   "metadata": {},
   "outputs": [],
   "source": []
  }
 ],
 "metadata": {
  "kernelspec": {
   "display_name": "python39",
   "language": "python",
   "name": "python3"
  },
  "language_info": {
   "codemirror_mode": {
    "name": "ipython",
    "version": 3
   },
   "file_extension": ".py",
   "mimetype": "text/x-python",
   "name": "python",
   "nbconvert_exporter": "python",
   "pygments_lexer": "ipython3",
   "version": "3.9.17"
  }
 },
 "nbformat": 4,
 "nbformat_minor": 2
}
