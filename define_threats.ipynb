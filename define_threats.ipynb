{
 "cells": [
  {
   "cell_type": "code",
   "execution_count": 1,
   "metadata": {},
   "outputs": [
    {
     "name": "stdout",
     "output_type": "stream",
     "text": [
      "Intel MKL WARNING: Support of Intel(R) Streaming SIMD Extensions 4.2 (Intel(R) SSE4.2) enabled only processors has been deprecated. Intel oneAPI Math Kernel Library 2025.0 will require Intel(R) Advanced Vector Extensions (Intel(R) AVX) instructions.\n",
      "Intel MKL WARNING: Support of Intel(R) Streaming SIMD Extensions 4.2 (Intel(R) SSE4.2) enabled only processors has been deprecated. Intel oneAPI Math Kernel Library 2025.0 will require Intel(R) Advanced Vector Extensions (Intel(R) AVX) instructions.\n"
     ]
    }
   ],
   "source": [
    "import pandas as pd\n",
    "from tqdm import tqdm\n",
    "import json\n",
    "from datetime import datetime\n",
    "import time\n",
    "import matplotlib.pyplot as plt\n",
    "import random\n",
    "from dotenv import load_dotenv\n",
    "from langchain.llms import OpenAI\n",
    "from langchain_openai import ChatOpenAI\n",
    "from langchain.callbacks import get_openai_callback\n",
    "from langchain.schema import HumanMessage, AIMessage, SystemMessage, ChatMessage\n",
    "from langchain.prompts import PromptTemplate, ChatPromptTemplate, HumanMessagePromptTemplate, AIMessagePromptTemplate, SystemMessagePromptTemplate\n",
    "from langchain.output_parsers import StructuredOutputParser, ResponseSchema, CommaSeparatedListOutputParser\n",
    "from langchain_core.output_parsers import JsonOutputParser\n",
    "\n",
    "import os\n",
    "load_dotenv(dotenv_path='../../../../.env')\n",
    "api_key = os.getenv('OPENAI_API_KEY')\n",
    "os.environ['OPENAI_API_KEY'] = api_key"
   ]
  },
  {
   "cell_type": "code",
   "execution_count": 2,
   "metadata": {},
   "outputs": [],
   "source": []
  },
  {
   "cell_type": "code",
   "execution_count": 5,
   "metadata": {},
   "outputs": [],
   "source": [
    "with open('../WTO_crawler/WTO_data_article/all_article_content.json') as f:\n",
    "    all_article_content = json.load(f)"
   ]
  },
  {
   "cell_type": "code",
   "execution_count": 6,
   "metadata": {},
   "outputs": [
    {
     "data": {
      "text/plain": [
       "8680"
      ]
     },
     "execution_count": 6,
     "metadata": {},
     "output_type": "execute_result"
    }
   ],
   "source": [
    "len(all_article_content)"
   ]
  },
  {
   "cell_type": "markdown",
   "metadata": {},
   "source": [
    "# filter data"
   ]
  },
  {
   "cell_type": "code",
   "execution_count": 7,
   "metadata": {},
   "outputs": [],
   "source": [
    "# urls = list(all_article_content.keys())"
   ]
  },
  {
   "cell_type": "code",
   "execution_count": 8,
   "metadata": {},
   "outputs": [],
   "source": [
    "urls = []\n",
    "\n",
    "for url in all_article_content.keys():\n",
    "    try:\n",
    "        if '2023' in all_article_content[url]['date']:\n",
    "            urls.append(url)\n",
    "    except:\n",
    "        pass"
   ]
  },
  {
   "cell_type": "code",
   "execution_count": 9,
   "metadata": {},
   "outputs": [
    {
     "data": {
      "text/plain": [
       "532"
      ]
     },
     "execution_count": 9,
     "metadata": {},
     "output_type": "execute_result"
    }
   ],
   "source": [
    "len(urls)"
   ]
  },
  {
   "cell_type": "code",
   "execution_count": 10,
   "metadata": {},
   "outputs": [],
   "source": [
    "sampled_urls = random.sample(urls, 100)"
   ]
  },
  {
   "cell_type": "code",
   "execution_count": 14,
   "metadata": {},
   "outputs": [
    {
     "data": {
      "text/plain": [
       "'20240130_120750'"
      ]
     },
     "execution_count": 14,
     "metadata": {},
     "output_type": "execute_result"
    }
   ],
   "source": []
  },
  {
   "cell_type": "markdown",
   "metadata": {},
   "source": [
    "# instruction 1"
   ]
  },
  {
   "cell_type": "code",
   "execution_count": 11,
   "metadata": {},
   "outputs": [],
   "source": [
    "template_string = \"\"\"\n",
    "You will be given an article from the WTO website. You have to determine whether the article implies threats to the sovereignty of \n",
    "the United States. \n",
    "\n",
    "This is the article: ```{article}```\n",
    "\n",
    "If the article implies threats to the sovereignty of the United States, please type \"yes\". If the article does \n",
    "not imply threats to the sovereignty of the United States, please type \"no\". And then give a reason in one sentence. \n",
    "\n",
    "{format_instructions}\n",
    "\"\"\""
   ]
  },
  {
   "cell_type": "code",
   "execution_count": 12,
   "metadata": {},
   "outputs": [],
   "source": [
    "response_schemas = [\n",
    "    ResponseSchema(name=\"isThreat\", description=\"response with only yes or no\"),\n",
    "    ResponseSchema(name=\"reason\", description=\"One-sentence reason for the response\")\n",
    "]\n",
    "\n",
    "output_parser = StructuredOutputParser.from_response_schemas(response_schemas)\n",
    "format_instructions = output_parser.get_format_instructions()    \n",
    "\n",
    "prompt_template = ChatPromptTemplate.from_template(template_string)\n",
    "\n",
    "chat_model = ChatOpenAI(temperature=0, model_name='gpt-4-0125-preview')"
   ]
  },
  {
   "cell_type": "code",
   "execution_count": 13,
   "metadata": {},
   "outputs": [
    {
     "name": "stderr",
     "output_type": "stream",
     "text": [
      "Now Processing:   0%|          | 0/100 [00:00<?, ?it/s]/Users/ycchen/opt/anaconda3/envs/python39/lib/python3.9/site-packages/langchain_core/_api/deprecation.py:117: LangChainDeprecationWarning: The function `__call__` was deprecated in LangChain 0.1.7 and will be removed in 0.2.0. Use invoke instead.\n",
      "  warn_deprecated(\n",
      "Now Processing: 100%|██████████| 100/100 [08:16<00:00,  4.97s/it]\n"
     ]
    }
   ],
   "source": [
    "# sampling\n",
    "idx = 0\n",
    "curr_time = datetime.now().strftime(\"%Y%m%d_%H%M%S\")\n",
    "structured_output_dict = {}\n",
    "\n",
    "for url in tqdm(sampled_urls, desc=\"Now Processing\"):\n",
    "    # print(f'Now processing {url}')\n",
    "    input_content = all_article_content[url]['content']\n",
    "    input_messages = prompt_template.format_messages(article = input_content, format_instructions=format_instructions)\n",
    "    response = chat_model.invoke([\n",
    "            SystemMessage(content = 'You are a polieconomics researcher, focusing on international relations.'),\n",
    "            input_messages[0]\n",
    "        ])\n",
    "    \n",
    "    structured_output = output_parser.parse(response.content)\n",
    "    structured_output_dict.update({url:structured_output})\n",
    "\n",
    "    if idx % 10 == 0:\n",
    "        with open(f'../sampling_{curr_time}.json', 'w') as f:\n",
    "            json.dump(structured_output_dict, f)\n",
    "\n",
    "    idx += 1\n",
    "\n",
    "with open(f'../sampling_{curr_time}.json', 'w') as f:\n",
    "    json.dump(structured_output_dict, f)"
   ]
  },
  {
   "cell_type": "code",
   "execution_count": 19,
   "metadata": {},
   "outputs": [
    {
     "data": {
      "text/plain": [
       "{'https://www.wto.org/english/blogs_e/data_blog_e/blog_dta_08jun23_e.htm',\n",
       " 'https://www.wto.org/english/blogs_e/data_blog_e/blog_dta_14jul23_e.htm',\n",
       " 'https://www.wto.org/english/news_e/news23_e/547_585r_e.htm',\n",
       " 'https://www.wto.org/english/news_e/news23_e/601r_e.htm',\n",
       " 'https://www.wto.org/english/news_e/news23_e/acc_05oct23_e.htm',\n",
       " 'https://www.wto.org/english/news_e/news23_e/agng_03oct23_e.htm',\n",
       " 'https://www.wto.org/english/news_e/news23_e/agri_05oct23_e.htm',\n",
       " 'https://www.wto.org/english/news_e/news23_e/agri_07nov23_e.htm',\n",
       " 'https://www.wto.org/english/news_e/news23_e/agri_28mar23_e.htm',\n",
       " 'https://www.wto.org/english/news_e/news23_e/agri_31mar23_e.htm',\n",
       " 'https://www.wto.org/english/news_e/news23_e/agri_31oct23_e.htm',\n",
       " 'https://www.wto.org/english/news_e/news23_e/aid_12may23_e.htm',\n",
       " 'https://www.wto.org/english/news_e/news23_e/aid_14nov23_e.htm',\n",
       " 'https://www.wto.org/english/news_e/news23_e/chair_08jun23_e.htm',\n",
       " 'https://www.wto.org/english/news_e/news23_e/chp_03feb23_e.htm',\n",
       " 'https://www.wto.org/english/news_e/news23_e/clim_14feb23_e.htm',\n",
       " 'https://www.wto.org/english/news_e/news23_e/cop28_09nov23_e.htm',\n",
       " 'https://www.wto.org/english/news_e/news23_e/cott_10nov23_e.htm',\n",
       " 'https://www.wto.org/english/news_e/news23_e/ddgae_14feb23_e.htm',\n",
       " 'https://www.wto.org/english/news_e/news23_e/ddgae_15nov23_e.htm',\n",
       " 'https://www.wto.org/english/news_e/news23_e/ddgae_25may23a_e.htm',\n",
       " 'https://www.wto.org/english/news_e/news23_e/ddgae_27apr23_e.htm',\n",
       " 'https://www.wto.org/english/news_e/news23_e/ddgjp_04sep23_e.htm',\n",
       " 'https://www.wto.org/english/news_e/news23_e/devel_03mar23_e.htm',\n",
       " 'https://www.wto.org/english/news_e/news23_e/devel_07mar23_e.htm',\n",
       " 'https://www.wto.org/english/news_e/news23_e/dgno_03oct23_e.htm',\n",
       " 'https://www.wto.org/english/news_e/news23_e/dgno_05jun23_e.htm',\n",
       " 'https://www.wto.org/english/news_e/news23_e/dgno_09jun23_e.htm',\n",
       " 'https://www.wto.org/english/news_e/news23_e/dgno_13oct23_e.htm',\n",
       " 'https://www.wto.org/english/news_e/news23_e/dgno_15jun23_e.htm',\n",
       " 'https://www.wto.org/english/news_e/news23_e/dgno_17feb23_e.htm',\n",
       " 'https://www.wto.org/english/news_e/news23_e/dgno_21jun23_e.htm',\n",
       " 'https://www.wto.org/english/news_e/news23_e/disp_18jul23_e.htm',\n",
       " 'https://www.wto.org/english/news_e/news23_e/ds544_552_556_564apl_30jan23_e.htm',\n",
       " 'https://www.wto.org/english/news_e/news23_e/ds584apl_25may23_e.htm',\n",
       " 'https://www.wto.org/english/news_e/news23_e/ds617rfc_24may23_e.htm',\n",
       " 'https://www.wto.org/english/news_e/news23_e/dsb_27jan23_e.htm',\n",
       " 'https://www.wto.org/english/news_e/news23_e/dsb_28apr23_e.htm',\n",
       " 'https://www.wto.org/english/news_e/news23_e/dsb_agenda_26oct23_e.htm',\n",
       " 'https://www.wto.org/english/news_e/news23_e/dsb_agenda_27feb23_e.htm',\n",
       " 'https://www.wto.org/english/news_e/news23_e/dsb_agenda_31mar23_e.htm',\n",
       " 'https://www.wto.org/english/news_e/news23_e/ecom_16may23_e.htm',\n",
       " 'https://www.wto.org/english/news_e/news23_e/ecom_18jul23_e.htm',\n",
       " 'https://www.wto.org/english/news_e/news23_e/envir_15mar23_e.htm',\n",
       " 'https://www.wto.org/english/news_e/news23_e/fac_05oct23_e.htm',\n",
       " 'https://www.wto.org/english/news_e/news23_e/fac_27mar23_e.htm',\n",
       " 'https://www.wto.org/english/news_e/news23_e/fish_06sep23_e.htm',\n",
       " 'https://www.wto.org/english/news_e/news23_e/fish_10may23_e.htm',\n",
       " 'https://www.wto.org/english/news_e/news23_e/fish_10nov23_e.htm',\n",
       " 'https://www.wto.org/english/news_e/news23_e/fish_12jun23_e.htm',\n",
       " 'https://www.wto.org/english/news_e/news23_e/fish_24mar23_e.htm',\n",
       " 'https://www.wto.org/english/news_e/news23_e/gc_25jul23_e.htm',\n",
       " 'https://www.wto.org/english/news_e/news23_e/gpro_12may23_e.htm',\n",
       " 'https://www.wto.org/english/news_e/news23_e/heal_20jun23_e.htm',\n",
       " 'https://www.wto.org/english/news_e/news23_e/igmsm_15mar23_e.htm',\n",
       " 'https://www.wto.org/english/news_e/news23_e/igmsm_26apr23_e.htm',\n",
       " 'https://www.wto.org/english/news_e/news23_e/igo_20jan23_e.htm',\n",
       " 'https://www.wto.org/english/news_e/news23_e/impl_31oct23_e.htm',\n",
       " 'https://www.wto.org/english/news_e/news23_e/infac_02feb23_e.htm',\n",
       " 'https://www.wto.org/english/news_e/news23_e/infac_03mar23_e.htm',\n",
       " 'https://www.wto.org/english/news_e/news23_e/infac_04may23_e.htm',\n",
       " 'https://www.wto.org/english/news_e/news23_e/jsec_30mar23_e.htm',\n",
       " 'https://www.wto.org/english/news_e/news23_e/mark_24mar23_e.htm',\n",
       " 'https://www.wto.org/english/news_e/news23_e/msmes_30mar23_e.htm',\n",
       " 'https://www.wto.org/english/news_e/news23_e/pf23_14sep23_e.htm',\n",
       " 'https://www.wto.org/english/news_e/news23_e/pf23_24jul23_e.htm',\n",
       " 'https://www.wto.org/english/news_e/news23_e/ppesp_14mar23_e.htm',\n",
       " 'https://www.wto.org/english/news_e/news23_e/ppesp_16feb23_e.htm',\n",
       " 'https://www.wto.org/english/news_e/news23_e/ppesp_23nov23_e.htm',\n",
       " 'https://www.wto.org/english/news_e/news23_e/publ_03jul23_e.htm',\n",
       " 'https://www.wto.org/english/news_e/news23_e/roi_24nov23_e.htm',\n",
       " 'https://www.wto.org/english/news_e/news23_e/rta_05jul23_e.htm',\n",
       " 'https://www.wto.org/english/news_e/news23_e/safe_idn_31oct23_e.htm',\n",
       " 'https://www.wto.org/english/news_e/news23_e/scm_02may23_e.htm',\n",
       " 'https://www.wto.org/english/news_e/news23_e/scm_27oct23_e.htm',\n",
       " 'https://www.wto.org/english/news_e/news23_e/sdgs_06sep23_e.htm',\n",
       " 'https://www.wto.org/english/news_e/news23_e/serv_05oct23_e.htm',\n",
       " 'https://www.wto.org/english/news_e/news23_e/sps_17nov23_e.htm',\n",
       " 'https://www.wto.org/english/news_e/news23_e/stdf_07jul23_e.htm',\n",
       " 'https://www.wto.org/english/news_e/news23_e/tbt_23jun23_e.htm',\n",
       " 'https://www.wto.org/english/news_e/news23_e/tech_09feb23_e.htm',\n",
       " 'https://www.wto.org/english/news_e/news23_e/tech_10nov23_e.htm',\n",
       " 'https://www.wto.org/english/news_e/news23_e/tessd_11jul23_e.htm',\n",
       " 'https://www.wto.org/english/news_e/news23_e/tessd_17mar23_e.htm',\n",
       " 'https://www.wto.org/english/news_e/news23_e/tfore_05apr23_e.htm',\n",
       " 'https://www.wto.org/english/news_e/news23_e/tfp_20jul23_e.htm',\n",
       " 'https://www.wto.org/english/news_e/news23_e/tfp_28sep23_e.htm',\n",
       " 'https://www.wto.org/english/news_e/news23_e/tra_16oct23_e.htm',\n",
       " 'https://www.wto.org/english/news_e/news23_e/tra_20jul23_e.htm',\n",
       " 'https://www.wto.org/english/news_e/news23_e/tra_25sep23_e.htm',\n",
       " 'https://www.wto.org/english/news_e/news23_e/trdev_02mar23_e.htm',\n",
       " 'https://www.wto.org/english/news_e/news23_e/trdev_04jul23_e.htm',\n",
       " 'https://www.wto.org/english/news_e/news23_e/women_13mar23_e.htm',\n",
       " 'https://www.wto.org/english/news_e/pres23_e/pr918_e.htm',\n",
       " 'https://www.wto.org/english/news_e/pres23_e/pr919_e.htm',\n",
       " 'https://www.wto.org/english/news_e/pres23_e/pr920_e.htm',\n",
       " 'https://www.wto.org/english/news_e/pres23_e/pr922_e.htm',\n",
       " 'https://www.wto.org/english/news_e/pres23_e/pr926_e.htm',\n",
       " 'https://www.wto.org/english/news_e/pres23_e/pr939_e.htm',\n",
       " 'https://www.wto.org/english/tratop_e/tpr_e/tp541_crc_e.htm'}"
      ]
     },
     "execution_count": 19,
     "metadata": {},
     "output_type": "execute_result"
    }
   ],
   "source": [
    "set([d['reason'] for d in structured_output_dict.values()])"
   ]
  },
  {
   "cell_type": "markdown",
   "metadata": {},
   "source": [
    "# Playground"
   ]
  },
  {
   "cell_type": "code",
   "execution_count": 199,
   "metadata": {},
   "outputs": [
    {
     "name": "stderr",
     "output_type": "stream",
     "text": [
      "Outer loop: 100%|██████████| 100/100 [00:01<00:00, 80.11it/s]\n"
     ]
    }
   ],
   "source": [
    "import time\n",
    "for i in tqdm(range(100), desc=\"Outer loop\"):\n",
    "    # for j in tqdm(range(10), desc=\"Inner loop\", leave=False):\n",
    "        # 执行一些耗时的操作\n",
    "    time.sleep(0.01)"
   ]
  },
  {
   "cell_type": "code",
   "execution_count": 218,
   "metadata": {},
   "outputs": [
    {
     "name": "stderr",
     "output_type": "stream",
     "text": [
      "Processing: 100%|██████████| 8680/8680 [00:00<00:00, 411076.27it/s]\n"
     ]
    }
   ],
   "source": [
    "idx = 0\n",
    "for url in tqdm(urls, desc=\"Processing\"):\n",
    "    if idx % 80 == 0:\n",
    "        input_content = all_article_content[url]['content']\n",
    "    # time.sleep(0.1)\n",
    "    idx += 1"
   ]
  },
  {
   "cell_type": "code",
   "execution_count": 219,
   "metadata": {},
   "outputs": [
    {
     "data": {
      "text/plain": [
       "8680"
      ]
     },
     "execution_count": 219,
     "metadata": {},
     "output_type": "execute_result"
    }
   ],
   "source": [
    "idx"
   ]
  },
  {
   "cell_type": "code",
   "execution_count": 178,
   "metadata": {},
   "outputs": [],
   "source": []
  },
  {
   "cell_type": "code",
   "execution_count": 180,
   "metadata": {},
   "outputs": [
    {
     "data": {
      "text/plain": [
       "{'https://www.wto.org/english/news_e/news19_e/dsb_agenda_22nov19_e.htm': {'isThreat': 'no',\n",
       "  'reason': 'Proposed items for consideration at the DSB typically involve dispute resolution and trade policy reviews, not direct threats to national sovereignty.'}}"
      ]
     },
     "execution_count": 180,
     "metadata": {},
     "output_type": "execute_result"
    }
   ],
   "source": [
    "d"
   ]
  },
  {
   "cell_type": "code",
   "execution_count": 170,
   "metadata": {},
   "outputs": [],
   "source": []
  },
  {
   "cell_type": "code",
   "execution_count": 172,
   "metadata": {},
   "outputs": [
    {
     "ename": "AttributeError",
     "evalue": "'dict' object has no attribute 'append'",
     "output_type": "error",
     "traceback": [
      "\u001b[0;31m---------------------------------------------------------------------------\u001b[0m",
      "\u001b[0;31mAttributeError\u001b[0m                            Traceback (most recent call last)",
      "Cell \u001b[0;32mIn[172], line 1\u001b[0m\n\u001b[0;32m----> 1\u001b[0m \u001b[43mres\u001b[49m\u001b[38;5;241;43m.\u001b[39;49m\u001b[43mappend\u001b[49m(d)\n",
      "\u001b[0;31mAttributeError\u001b[0m: 'dict' object has no attribute 'append'"
     ]
    }
   ],
   "source": []
  },
  {
   "cell_type": "code",
   "execution_count": 169,
   "metadata": {},
   "outputs": [
    {
     "data": {
      "text/plain": [
       "{'url': 'https://www.wto.org/english/news_e/news19_e/dsb_agenda_22nov19_e.htm',\n",
       " 'isThreat': 'no',\n",
       " 'reason': 'Proposed items for consideration at the DSB typically involve dispute resolution and trade policy reviews, not direct threats to national sovereignty.'}"
      ]
     },
     "execution_count": 169,
     "metadata": {},
     "output_type": "execute_result"
    }
   ],
   "source": []
  },
  {
   "cell_type": "code",
   "execution_count": null,
   "metadata": {},
   "outputs": [],
   "source": []
  },
  {
   "cell_type": "code",
   "execution_count": 56,
   "metadata": {},
   "outputs": [
    {
     "name": "stdout",
     "output_type": "stream",
     "text": [
      "Tokens Used: 359\n",
      "\tPrompt Tokens: 324\n",
      "\tCompletion Tokens: 35\n",
      "Successful Requests: 1\n",
      "Total Cost (USD): $0.0\n"
     ]
    }
   ],
   "source": [
    "# with get_openai_callback() as cb:\n",
    "#     result = chat_model([\n",
    "#                 SystemMessage(content = 'Your are a polieconomic researcher, focusing on international relations.'),\n",
    "#                 HumanMessage(content = instructions),\n",
    "#                 HumanMessage(content = text),\n",
    "#             ])\n",
    "#     print(cb)"
   ]
  },
  {
   "cell_type": "code",
   "execution_count": null,
   "metadata": {},
   "outputs": [],
   "source": [
    "# track token usage\n",
    "# from langchain.callbacks import get_openai_callback\n",
    "# with get_openai_callback() as cb:\n",
    "#     result = llm.invoke(\"Tell me a joke\")\n",
    "#     print(cb)"
   ]
  }
 ],
 "metadata": {
  "kernelspec": {
   "display_name": "python39",
   "language": "python",
   "name": "python3"
  },
  "language_info": {
   "codemirror_mode": {
    "name": "ipython",
    "version": 3
   },
   "file_extension": ".py",
   "mimetype": "text/x-python",
   "name": "python",
   "nbconvert_exporter": "python",
   "pygments_lexer": "ipython3",
   "version": "3.9.17"
  }
 },
 "nbformat": 4,
 "nbformat_minor": 2
}
